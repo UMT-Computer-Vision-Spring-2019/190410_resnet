{
 "cells": [
  {
   "cell_type": "markdown",
   "metadata": {},
   "source": [
    "# Resnet\n",
    "\n",
    "## Please watch Ng C4W2L01-C4W2L04, the first of which is found [here](https://www.youtube.com/watch?v=-bvTzZCEOdM&list=PLkDaE6sCZn6Gl29AoE31iwdVwSG-KnDzF&index=12).\n",
    "\n",
    "The convolutional neural network that we developed and ran was adequate for use on a small problem with a few classes, but it lacks the explanatory power to produce highly accurate results for more difficult datasets.  Instead, more interesting neural networks have been developed which have greater explanatory power.  One of the most powerful architectures today is called ResNet, which is short for residual network.  \n",
    "\n",
    "In principle, you could take the network that you've been working on and make it more flexible by adding more convolutional layers, which is to say that we could add more sequences of feature map generation.  This is what is meant when people use the term \"deep\" learning.  However, if you did this, you would quickly run into the problem that your network would struggle to learn weights in the lower (closer to the inputs) layers of the network.  This is a result of the way that neural networks are trained.  In particular they rely on the ability to take the derivative of a misfit function (e.g. least squares) with respect to a parameter, and to adjust the weight based on that derivative.  However in (naive) deep networks, this gradient has the tendency to become negligibly small as the impact of that weight gets lost in the myriad layers of convolutions and activations closer to the output.  \n",
    "\n",
    "ResNet solves this problem by ensuring that the information in each weight gets propagated to the output.  It does this by simply adding the layer's input to each layer's output, so instead of \n",
    "$$\n",
    "\\mathbf{x}_{l+1} = \\mathcal{F}_{l}(\\mathbf{x}_l),\n",
    "$$\n",
    "at each layer, the neural network performs the operation\n",
    "$$\n",
    "\\mathbf{x}_{l+1} = \\mathcal{F}_{l}(\\mathbf{x}_l) + \\mathbf{x}_l.\n",
    "$$\n",
    "Rearranging this equation, we can see why this architecture is called a residual network:\n",
    "$$\n",
    "\\mathbf{x}_{l+1} - \\mathbf{x}_l = \\mathcal{F}_{l}(\\mathbf{x}_l).\n",
    "$$\n",
    "Each layer is modeling the residual between consecutive feature maps.  The pedantic amongst us will note that this only works when the output of $\\mathcal{F}_{l}(\\mathbf{x}_l)$ is the same size as the input.  This is dealt with by performing a suitable linear transformation on $\\mathbf{x}_l$, making the equation\n",
    "$$\n",
    "\\mathbf{x}_{l+1} = \\mathcal{F}_{l}(\\mathbf{x}_l) + W \\mathbf{x}_l,\n",
    "$$\n",
    "where $W$ is a matrix that has learnable weights.  The matrix $W$ is most often formulated as a convolution with a 1x1 kernel size.   \n",
    "\n",
    "The addition of the input is known as a *skip connection* because it looks like this:\n",
    "<img src=res_net.svg width=600/>\n",
    "The input is run through a normal conv layer (perhaps several) and then added to the output, where it can then be maxpooled or run through an activation or whatever.  \n",
    "\n",
    "Keras makes these sorts of networks pretty easy to program.  To start with, let's apply this network to the CIFAR-10 classification problem, but we'll do it for all 10 classes.  All the non-model definition code should look the same as our previous example.   "
   ]
  },
  {
   "cell_type": "code",
   "execution_count": null,
   "metadata": {},
   "outputs": [],
   "source": [
    "import keras\n",
    "import keras.datasets as kd\n",
    "\n",
    "(x_train, y_train), (x_test, y_test) = kd.cifar10.load_data()\n",
    "labels = ['airplane', 'car', 'bird', 'cat', 'deer', 'dog', 'frog', 'horse', 'ship', 'truck']\n",
    "\n",
    "x_train = x_train/255.\n",
    "x_test = x_test/255.\n",
    "\n",
    "# Convert class vectors to binary class matrices.\n",
    "N = len(labels)\n",
    "\n",
    "y_train = keras.utils.to_categorical(y_train, N)\n",
    "y_test = keras.utils.to_categorical(y_test, N)"
   ]
  },
  {
   "cell_type": "markdown",
   "metadata": {},
   "source": [
    "Now things get more interesting.  Obviously, ResNet as described above is more of a concept than a specific architecture: we'll need to make some more specific design choices.  One good way of doing this is to look at the literature and copy what others have done.  In particular, the [original ResNet Paper](https://arxiv.org/abs/1512.03385) provides an example of ResNet being applied to CIFAR-10 that yielded excellent accuracy (state of the art c. 2015).  Here, we'll emulate their network architecture, which looks like this:\n",
    "<img src=cifar_10_res_net.svg width=900/>\n",
    "More concretely, the layers of this network up to (and including) the location of the star in the figure above, look like this."
   ]
  },
  {
   "cell_type": "code",
   "execution_count": null,
   "metadata": {},
   "outputs": [],
   "source": [
    "import keras.layers as kl\n",
    "import keras.regularizers as kr\n",
    "\n",
    "# Note the alternative method for model specification: no model.add(.), instead we \n",
    "# perform sequential operations on layers, then we will make the resulting model later.\n",
    "\n",
    "# Specify the shape of the input image\n",
    "input_shape = x_train.shape[1:]\n",
    "inputs = kl.Input(shape=input_shape)\n",
    "\n",
    "# First convolution + BN + act\n",
    "conv = kl.Conv2D(16,(3,3),padding='same',kernel_regularizer=kr.l2(1e-4))(inputs)\n",
    "bn = kl.BatchNormalization()(conv)\n",
    "act1 = kl.Activation('relu')(bn)\n",
    "\n",
    "# Perform 3 convolution blocks\n",
    "for i in range(3):\n",
    "    conv = kl.Conv2D(16,(3,3),padding='same',kernel_regularizer=kr.l2(1e-4))(act1)\n",
    "    bn = kl.BatchNormalization()(conv)\n",
    "    act = kl.Activation('relu')(bn)\n",
    "    \n",
    "    conv = kl.Conv2D(16,(3,3),padding='same',kernel_regularizer=kr.l2(1e-4))(act)\n",
    "    bn = kl.BatchNormalization()(conv)\n",
    "\n",
    "    # Skip layer addition\n",
    "    skip = kl.add([act1,bn])\n",
    "    act1 = kl.Activation('relu')(skip)  \n",
    "\n",
    "# Downsampling with strided convolution\n",
    "conv = kl.Conv2D(32,(3,3),padding='same',strides=2,kernel_regularizer=kr.l2(1e-4))(act1)\n",
    "bn = kl.BatchNormalization()(conv)\n",
    "act = kl.Activation('relu')(bn)\n",
    "\n",
    "conv = kl.Conv2D(32,(3,3),padding='same',kernel_regularizer=kr.l2(1e-4))(act)\n",
    "bn = kl.BatchNormalization()(conv)\n",
    "\n",
    "# Downsampling with strided 1x1 convolution\n",
    "act1_downsampled = kl.Conv2D(32,(1,1),padding='same',strides=2,kernel_regularizer=kr.l2(1e-4))(act1)\n",
    "\n",
    "# Downsampling skip layer\n",
    "skip_downsampled = kl.add([act1_downsampled,bn])\n",
    "act1 = kl.Activation('relu')(skip_downsampled)\n",
    "\n",
    "# This final layer is denoted by a star in the above figure"
   ]
  },
  {
   "cell_type": "markdown",
   "metadata": {},
   "source": [
    "To ensure that we have the output shape that we expect at this stage, we can look at the shape of act1  "
   ]
  },
  {
   "cell_type": "code",
   "execution_count": null,
   "metadata": {},
   "outputs": [],
   "source": [
    "act1"
   ]
  },
  {
   "cell_type": "markdown",
   "metadata": {},
   "source": [
    "Which is an object of size 16x16x32, the correct size based on our chosen architecture (note the first question mark indicates an unknown number of input images: thus if we ran the model on a single photo, this would be a 1, if we ran it on the entire CIFAR training set at once it would be 50000).  As before, we can use this model for classification by doing global average pooling, then the softmax function."
   ]
  },
  {
   "cell_type": "code",
   "execution_count": null,
   "metadata": {},
   "outputs": [],
   "source": [
    "gap = kl.GlobalAveragePooling2D()(act1)\n",
    "bn = kl.BatchNormalization()(gap)\n",
    "final_dense = kl.Dense(N)(bn)\n",
    "softmax = kl.Activation('softmax')(final_dense)"
   ]
  },
  {
   "cell_type": "code",
   "execution_count": null,
   "metadata": {},
   "outputs": [],
   "source": [
    "import keras.models as km\n",
    "model = km.Model(inputs=inputs,outputs=softmax)\n",
    "\n",
    "# initiate adam optimizer\n",
    "opt = keras.optimizers.rmsprop(lr=0.001,decay=1e-6)\n",
    "\n",
    "model.compile(loss='categorical_crossentropy',\n",
    "              optimizer=opt,\n",
    "              metrics=['accuracy'])"
   ]
  },
  {
   "cell_type": "markdown",
   "metadata": {},
   "source": [
    "While the code as is works, it is *not* the complete architecture given in the figure above.  **Implement the remainder of the network, and train the model for 100 epochs.** The complete architecture has quite a few parameters, so you'll definitely want to use a GPU, i.e. run it on the cluster (reference the job script included in this repo).\n",
    "\n",
    "There are also a few extra tidbits to make this work better.  First, we'll want to checkpoint the model, which is to say that we'll want to save the weights anytime the model improves during the training process.  We can do this easily in Keras with a checkpoint function:"
   ]
  },
  {
   "cell_type": "code",
   "execution_count": null,
   "metadata": {},
   "outputs": [],
   "source": [
    "import keras.callbacks as kc\n",
    "filepath = './checkpoints'\n",
    "\n",
    "# Prepare callbacks for model saving and for learning rate adjustment.\n",
    "checkpoint = kc.ModelCheckpoint(filepath=filepath,\n",
    "                             monitor='val_acc',\n",
    "                             verbose=1,\n",
    "                             save_best_only=True)"
   ]
  },
  {
   "cell_type": "markdown",
   "metadata": {},
   "source": [
    "Note that these weights can then be loaded into a model on your local machine for more convenient post-processing and visualization of results.  We'll also want to reduce the learning rate as the model reaches an optimal solution.  We can do this with a *learning rate schedule*.\n"
   ]
  },
  {
   "cell_type": "code",
   "execution_count": null,
   "metadata": {},
   "outputs": [],
   "source": [
    "def lr_schedule(epoch):\n",
    "    lr = 1e-3\n",
    "    if epoch > 60:\n",
    "        lr *= 1e-1\n",
    "    elif epoch > 120:\n",
    "        lr *= 1e-2\n",
    "    print('Learning rate: ', lr)\n",
    "    return lr\n",
    "lr_scheduler = kc.LearningRateScheduler(lr_schedule)"
   ]
  },
  {
   "cell_type": "markdown",
   "metadata": {},
   "source": [
    "We can include these two functions as *callbacks* to the optimizer:"
   ]
  },
  {
   "cell_type": "code",
   "execution_count": null,
   "metadata": {},
   "outputs": [],
   "source": [
    "model.fit(x_train, y_train,\n",
    "          batch_size=128,\n",
    "          epochs=100,\n",
    "          validation_data=(x_test, y_test),\n",
    "          shuffle=True,\n",
    "          callbacks=[checkpoint,lr_scheduler])"
   ]
  },
  {
   "cell_type": "markdown",
   "metadata": {},
   "source": [
    "Once your model is fitted, **adapt your class activation mapping routine to run on this more advanced architecture, and compute a few examples?  How do these activation maps differ from those computed for the smaller network?**"
   ]
  },
  {
   "cell_type": "markdown",
   "metadata": {},
   "source": [
    "## Data augmentation\n",
    "\n",
    "Data augmentation relies on the idea that the semantic content of an image remains the same regardless of small variations.  For example, a dog is still a dog even after rotating an image by 20 degrees, or flipping across its axis, or zooming in or out a little bit.  By applying these operations to our training examples, the network can never rely on a single pixel's value, thus reducing the possibility of [overfitting](https://en.wikipedia.org/wiki/Overfitting), and also enhances the generalizability of the network.   "
   ]
  },
  {
   "cell_type": "code",
   "execution_count": null,
   "metadata": {},
   "outputs": [],
   "source": [
    "from keras.preprocessing.image import ImageDataGenerator\n",
    "    \n",
    "datagen = ImageDataGenerator(\n",
    "    featurewise_center=False,  # set input mean to 0 over the dataset\n",
    "    samplewise_center=False,  # set each sample mean to 0\n",
    "    featurewise_std_normalization=False,  # divide inputs by std of the dataset\n",
    "    samplewise_std_normalization=False,  # divide each input by its std\n",
    "    zca_whitening=False,  # apply ZCA whitening\n",
    "    zca_epsilon=1e-06,  # epsilon for ZCA whitening\n",
    "    rotation_range=0,  # randomly rotate images in the range (degrees, 0 to 180)\n",
    "    # randomly shift images horizontally (fraction of total width)\n",
    "    width_shift_range=0.1,\n",
    "    # randomly shift images vertically (fraction of total height)\n",
    "    height_shift_range=0.1,\n",
    "    shear_range=0.01,  # set range for random shear\n",
    "    zoom_range=0.2,  # set range for random zoom\n",
    "    channel_shift_range=0.,  # set range for random channel shifts\n",
    "    # set mode for filling points outside the input boundaries\n",
    "    fill_mode='nearest',\n",
    "    cval=0.,  # value used for fill_mode = \"constant\"\n",
    "    horizontal_flip=True,  # randomly flip images\n",
    "    vertical_flip=False,  # randomly flip images\n",
    "    # set rescaling factor (applied before any other transformation)\n",
    "    rescale=None,\n",
    "    # set function that will be applied on each input\n",
    "    preprocessing_function=None,\n",
    "    # image data format, either \"channels_first\" or \"channels_last\"\n",
    "    data_format=None,\n",
    "    # fraction of images reserved for validation (strictly between 0 and 1)\n",
    "    validation_split=0.0)\n",
    "\n",
    "# Compute quantities required for feature-wise normalization\n",
    "# (std, mean, and principal components if ZCA whitening is applied).\n",
    "datagen.fit(x_train)\n",
    "\n",
    "batch_size = 64\n",
    "epochs = 180\n",
    "\n",
    "# Fit the model on the batches generated bydatagen.flow().\n",
    "model.fit_generator(datagen.flow(x_train, y_train,\n",
    "                                batch_size=batch_size),\n",
    "                                steps_per_epoch=len(x_train)/batch_size,\n",
    "                                epochs=epochs,\n",
    "                                validation_data=(x_test, y_test),verbose=1, workers=4,\n",
    "                                callbacks=[checkpoint,lr_scheduler])\n",
    "\n"
   ]
  },
  {
   "cell_type": "code",
   "execution_count": null,
   "metadata": {},
   "outputs": [],
   "source": []
  }
 ],
 "metadata": {
  "kernelspec": {
   "display_name": "Python 3",
   "language": "python",
   "name": "python3"
  },
  "language_info": {
   "codemirror_mode": {
    "name": "ipython",
    "version": 3
   },
   "file_extension": ".py",
   "mimetype": "text/x-python",
   "name": "python",
   "nbconvert_exporter": "python",
   "pygments_lexer": "ipython3",
   "version": "3.6.5"
  }
 },
 "nbformat": 4,
 "nbformat_minor": 2
}
